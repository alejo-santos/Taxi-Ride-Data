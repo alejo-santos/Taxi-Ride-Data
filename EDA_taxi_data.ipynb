{
 "cells": [
  {
   "cell_type": "markdown",
   "metadata": {
    "jp-MarkdownHeadingCollapsed": true
   },
   "source": [
    "# Exploratoy Data Analysis"
   ]
  },
  {
   "cell_type": "markdown",
   "metadata": {},
   "source": [
    "In this project, we embark on a comprehensive exploration of taxi ride data in Chicago, focusing on November 15-16, 2017. We are equipped with multiple datasets that provide insights into various aspects of taxi services in the city. Our journey begins with exploratory data analysis, where we delve into the characteristics of taxi companies and neighborhoods, identifying patterns and trends. Subsequently, we transition into hypothesis testing, aiming to uncover whether weather conditions, particularly rainy Saturdays, influence the average duration of rides from the Loop to O'Hare International Airport. \n",
    "\n",
    "Through meticulous data analysis and hypothesis testing, we aim to draw meaningful conclusions that shed light on the dynamics of taxi services in Chicago. Our approach is grounded in Python programming, leveraging data visualization and statistical methods to derive actionable insights. Let's embark on this analytical expedition to unveil the nuances of Chicago's taxi landscape."
   ]
  },
  {
   "cell_type": "markdown",
   "metadata": {},
   "source": [
    "# Importing Libraries and Loading Files"
   ]
  },
  {
   "cell_type": "markdown",
   "metadata": {},
   "source": [
    "we'll begin by importing the necessary libraries and loading the provided CSV files. Then, we'll explore the data, ensuring correct data types and conducting preliminary analysis to identify the top 10 neighborhoods by drop-offs. Subsequently, we'll create visualizations to depict the distribution of taxi companies and the number of rides, as well as the top 10 neighborhoods by drop-offs."
   ]
  },
  {
   "cell_type": "markdown",
   "metadata": {},
   "source": [
    "## Importing"
   ]
  },
  {
   "cell_type": "code",
   "execution_count": 7,
   "metadata": {},
   "outputs": [],
   "source": [
    "import pandas as pd\n",
    "import matplotlib.pyplot as plt\n",
    "from scipy.stats import ttest_ind"
   ]
  },
  {
   "cell_type": "markdown",
   "metadata": {},
   "source": [
    "## Loading Data"
   ]
  },
  {
   "cell_type": "code",
   "execution_count": 9,
   "metadata": {},
   "outputs": [
    {
     "name": "stdout",
     "output_type": "stream",
     "text": [
      "input file not found\n"
     ]
    }
   ],
   "source": [
    "# Importing the CSV files\n",
    "try:\n",
    "    taxi_df = pd.read_csv(\"/datasets/project_sql_result_01.csv\")\n",
    "    neighborhood_df = pd.read_csv(\"/datasets/project_sql_result_04.csv\")\n",
    "    data = pd.read_csv(\"/datasets/project_sql_result_07.csv\")\n",
    "    \n",
    "except FileNotFoundError:\n",
    "    print('input file not found')    "
   ]
  },
  {
   "cell_type": "code",
   "execution_count": 10,
   "metadata": {},
   "outputs": [
    {
     "name": "stdout",
     "output_type": "stream",
     "text": [
      "Taxi Company Data:\n"
     ]
    },
    {
     "ename": "NameError",
     "evalue": "name 'taxi_df' is not defined",
     "output_type": "error",
     "traceback": [
      "\u001b[1;31m---------------------------------------------------------------------------\u001b[0m",
      "\u001b[1;31mNameError\u001b[0m                                 Traceback (most recent call last)",
      "Cell \u001b[1;32mIn[10], line 3\u001b[0m\n\u001b[0;32m      1\u001b[0m \u001b[38;5;66;03m# Displaying the first few rows of each dataset\u001b[39;00m\n\u001b[0;32m      2\u001b[0m \u001b[38;5;28mprint\u001b[39m(\u001b[38;5;124m\"\u001b[39m\u001b[38;5;124mTaxi Company Data:\u001b[39m\u001b[38;5;124m\"\u001b[39m)\n\u001b[1;32m----> 3\u001b[0m taxi_df\u001b[38;5;241m.\u001b[39mhead()\n",
      "\u001b[1;31mNameError\u001b[0m: name 'taxi_df' is not defined"
     ]
    }
   ],
   "source": [
    "# Displaying the first few rows of each dataset\n",
    "print(\"Taxi Company Data:\")\n",
    "taxi_df.head()"
   ]
  },
  {
   "cell_type": "code",
   "execution_count": null,
   "metadata": {
    "scrolled": true
   },
   "outputs": [],
   "source": [
    "print(\"Neighborhood Data:\")\n",
    "neighborhood_df.head()"
   ]
  },
  {
   "cell_type": "markdown",
   "metadata": {},
   "source": [
    "# Studying and Exploring Data"
   ]
  },
  {
   "cell_type": "markdown",
   "metadata": {},
   "source": [
    "Performing an exploratory data analysis aids in comprehending the diversity of data types present, identifying and managing duplicates effectively, as well as illuminating the extent and implications of missing values within the dataset."
   ]
  },
  {
   "cell_type": "markdown",
   "metadata": {},
   "source": [
    "## Exploring Taxi Dataframe"
   ]
  },
  {
   "cell_type": "code",
   "execution_count": null,
   "metadata": {},
   "outputs": [],
   "source": [
    "taxi_df.describe()"
   ]
  },
  {
   "cell_type": "code",
   "execution_count": null,
   "metadata": {
    "scrolled": true
   },
   "outputs": [],
   "source": [
    "taxi_df.info()"
   ]
  },
  {
   "cell_type": "markdown",
   "metadata": {},
   "source": [
    "### Checking for Null and Duplicate Values on the Taxi Dataframe"
   ]
  },
  {
   "cell_type": "code",
   "execution_count": null,
   "metadata": {},
   "outputs": [],
   "source": [
    "# Check for duplicates\n",
    "print('Duplicate Values:', taxi_df.duplicated().sum())"
   ]
  },
  {
   "cell_type": "code",
   "execution_count": null,
   "metadata": {},
   "outputs": [],
   "source": [
    "# Check for null values\n",
    "print('Null Values:')\n",
    "taxi_df.isnull().sum()"
   ]
  },
  {
   "cell_type": "markdown",
   "metadata": {},
   "source": [
    "### Exploring Neighborhood Dataframe"
   ]
  },
  {
   "cell_type": "code",
   "execution_count": null,
   "metadata": {},
   "outputs": [],
   "source": [
    "neighborhood_df.describe()"
   ]
  },
  {
   "cell_type": "code",
   "execution_count": null,
   "metadata": {
    "scrolled": true
   },
   "outputs": [],
   "source": [
    "neighborhood_df.info()"
   ]
  },
  {
   "cell_type": "markdown",
   "metadata": {},
   "source": [
    "## Checking for Null and Duplicate Values on the Neighborhood Dataframe"
   ]
  },
  {
   "cell_type": "code",
   "execution_count": null,
   "metadata": {},
   "outputs": [],
   "source": [
    "# Check for duplicates\n",
    "print('Duplicate Values:', neighborhood_df.duplicated().sum())"
   ]
  },
  {
   "cell_type": "code",
   "execution_count": null,
   "metadata": {},
   "outputs": [],
   "source": [
    "# Check for null values\n",
    "print('Null Values:')\n",
    "neighborhood_df.isnull().sum()"
   ]
  },
  {
   "cell_type": "markdown",
   "metadata": {},
   "source": [
    "### Correcting Data types"
   ]
  },
  {
   "cell_type": "markdown",
   "metadata": {},
   "source": [
    "We will be rouding the 'average_tips' column. Rounding the 'average_trips' column to two decimals can be beneficial for several reasons:\n",
    "\n",
    "Improved Readability: Rounding to two decimal places simplifies the values, making them easier to read and understand.\n",
    "\n",
    "Enhanced Interpretation: Rounding helps in emphasizing the significant digits and removes excessive precision that may not be relevant or meaningful for interpretation.\n",
    "\n",
    "Consistency: Rounding the 'average_trips' column to a consistent number of decimal places ensures uniformity across the dataset. Consistency in presentation facilitates comparison between different values within the same column and across different datasets or visualizations.\n",
    "\n",
    "Overall, rounding the 'average_trips' column to two decimals promotes clarity, simplicity, and consistency in data presentation, leading to better readability, interpretation, and communication of insights derived from the dataset."
   ]
  },
  {
   "cell_type": "code",
   "execution_count": null,
   "metadata": {},
   "outputs": [],
   "source": [
    "# Rounding 'average_trips' by two decimal values\n",
    "#neighborhood_df['average_trips'] = neighborhood_df['average_trips'].astype('int64')\n",
    "neighborhood_df['average_trips'] = neighborhood_df['average_trips'].round(2)"
   ]
  },
  {
   "cell_type": "code",
   "execution_count": null,
   "metadata": {},
   "outputs": [],
   "source": [
    "# Displaying changes\n",
    "neighborhood_df.head()"
   ]
  },
  {
   "cell_type": "markdown",
   "metadata": {},
   "source": [
    "## Identifying Top 10 Neighborhoods"
   ]
  },
  {
   "cell_type": "code",
   "execution_count": null,
   "metadata": {},
   "outputs": [],
   "source": [
    "top_10_neighborhoods = neighborhood_df.sort_values(by='average_trips', ascending=False).head(10)\n",
    "top_10_neighborhoods"
   ]
  },
  {
   "cell_type": "markdown",
   "metadata": {},
   "source": [
    "The data reveals that popular tourist destinations such as the Loop and River North experience exceptionally high average trip volumes, suggesting a high demand for transportation services in these areas. Conversely, neighborhoods like Sheffield & DePaul and Gold Coast, while still significant, exhibit comparatively lower average trip numbers, indicating potentially lower demand or different usage patterns. This insight could inform transportation companies in allocating resources and tailoring services to meet varying demand levels across different areas of the city."
   ]
  },
  {
   "cell_type": "markdown",
   "metadata": {},
   "source": [
    "## Visualizing Taxi Activity"
   ]
  },
  {
   "cell_type": "code",
   "execution_count": null,
   "metadata": {},
   "outputs": [],
   "source": [
    "# Identifying Top 10 taxi companies by number of rides\n",
    "top_taxi = taxi_df.sort_values(by='trips_amount', ascending=False).head(10)\n",
    "top_taxi"
   ]
  },
  {
   "cell_type": "code",
   "execution_count": null,
   "metadata": {},
   "outputs": [],
   "source": [
    "colors = ['#FF5733', '#FFC300']\n",
    "plt.figure(figsize=(10, 6))\n",
    "plt.barh(top_taxi['company_name'], top_taxi['trips_amount'], color=colors)  # Specify the colors\n",
    "plt.xticks(rotation=90)\n",
    "plt.ylabel('Taxi Company')\n",
    "plt.xlabel('Number of Rides')\n",
    "plt.title('Top 10 Taxi Companies by Number of Rides')\n",
    "plt.tight_layout()\n",
    "plt.show()"
   ]
  },
  {
   "cell_type": "markdown",
   "metadata": {},
   "source": [
    "This graph shows the distribution of rides among the top 10 taxi companies.\n",
    "\n",
    "Market Dominance of Established Players: Flash Cab emerges as the clear leader in terms of trip volume, significantly outpacing other companies. This suggests a strong market presence and customer preference for this particular taxi service.\n",
    "\n",
    "Variety in Market Share: While Flash Cab leads in trip numbers, other companies like Taxi Affiliation Services, Medallion Leasing, and Yellow Cab also command substantial shares of the market. This diversity indicates a competitive landscape with multiple players catering to the transportation needs of the city.\n",
    "\n",
    "Potential Areas for Growth: Companies with lower trip counts, such as Star North Management LLC and Blue Ribbon Taxi Association Inc., may have opportunities for growth and expansion. Understanding the factors contributing to their lower trip volumes could inform strategic initiatives aimed at increasing market share and improving competitiveness.\n",
    "\n",
    "Additional Observations:\n",
    "\n",
    "Importance of Brand Recognition: Recognizable brands like Yellow Cab and Chicago Carriage Cab Corp maintain solid positions within the market, likely due in part to their established brand reputation and customer trust. This underscores the importance of brand recognition and customer loyalty in the taxi industry.\n",
    "\n",
    "Customer Preferences and Service Quality: Variations in trip amounts among different companies may also reflect differences in service quality, pricing strategies, coverage areas, and customer satisfaction levels. Analyzing customer feedback and preferences could provide insights into areas for improvement and competitive advantages for taxi companies."
   ]
  },
  {
   "cell_type": "code",
   "execution_count": null,
   "metadata": {},
   "outputs": [],
   "source": [
    "# Graph 2: Top 10 neighborhoods by number of drop-offs\n",
    "plt.figure(figsize=(10, 6))\n",
    "plt.bar(top_10_neighborhoods['dropoff_location_name'], top_10_neighborhoods['average_trips'])\n",
    "plt.xticks(rotation=90)\n",
    "plt.xlabel('Neighborhood')\n",
    "plt.ylabel('Average Number of Drop-offs')\n",
    "plt.title('Top 10 Neighborhoods by Drop-offs')\n",
    "plt.tight_layout()\n",
    "plt.show()"
   ]
  },
  {
   "cell_type": "markdown",
   "metadata": {},
   "source": [
    "This graph highlights the top 10 neighborhoods in terms of drop-offs.\n",
    "\n",
    "Urban Center Dominance: The top dropoff locations, such as Loop, River North, and Streeterville, reflect the dominance of urban centers in attracting taxi trips. These areas likely host a concentration of commercial, entertainment, and residential activities, resulting in high transportation demand.\n",
    "\n",
    "Tourist and Business Hubs: Locations like Loop and River North, known for their bustling commercial districts and tourist attractions, exhibit the highest average trip numbers. This suggests a significant portion of taxi usage is driven by tourism, business travel, and commuting to work or entertainment venues.\n",
    "\n",
    "Transportation Nodes: O'Hare's presence among the top dropoff locations indicates its importance as a major transportation hub. The high average trip count to O'Hare suggests a significant volume of taxi trips associated with air travel, including passenger dropoffs and pickups.\n",
    "\n",
    "Residential and Recreational Areas: Dropoff locations like Lake View and Grant Park suggest that residential areas and recreational spaces also contribute to taxi usage. These areas may represent destinations for leisure activities, residential dropoffs, or transportation hubs connecting to other parts of the city.\n",
    "\n",
    "Business Insights: Analyzing average trip numbers for different locations can provide valuable insights for taxi companies in resource allocation, pricing strategies, and service coverage. Understanding the demand patterns across various dropoff locations enables companies to optimize their operations and meet customer needs effectively.\n",
    "\n",
    "Seasonal Variations: While not explicitly shown in the provided data, analyzing average trip numbers over time could reveal seasonal variations in transportation demand. For example, tourist-heavy areas might experience peaks during holiday seasons or summer months, while business districts might exhibit more consistent demand throughout the year.\n",
    "\n",
    "PS. Some of these insights were obtained through research conducted on the web outside from the data provided to gain a deeper understanding of the areas under investigation."
   ]
  },
  {
   "cell_type": "markdown",
   "metadata": {},
   "source": [
    "## Testing hypotheses "
   ]
  },
  {
   "cell_type": "markdown",
   "metadata": {},
   "source": [
    "## Testing hypotheses "
   ]
  },
  {
   "cell_type": "markdown",
   "metadata": {},
   "source": [
    "To test the hypothesis \"The average duration of rides from the Loop to O'Hare International Airport changes on rainy Saturdays,\" we need to follow these steps:\n",
    "\n",
    "Formulate Null and Alternative Hypotheses:\n",
    "Null Hypothesis (H0): The average duration of rides from the Loop to O'Hare International Airport is the same on rainy Saturdays as on non-rainy Saturdays.\n",
    "\n",
    "Alternative Hypothesis (H1): The average duration of rides from the Loop to O'Hare International Airport differs on rainy Saturdays compared to non-rainy Saturdays.\n",
    "\n",
    "Select Significance Level (alpha):\n",
    "The significance level (alpha) represents the threshold for the p-value, which is the probability of observing the data given that the null hypothesis is true. A common choice for alpha is 0.05, indicating a 5% chance of rejecting the null hypothesis when it is actually true.\n",
    "\n",
    "Criterion for Testing Hypotheses:\n",
    "We'll use a two-sample t-test to compare the means of ride durations on rainy Saturdays and non-rainy Saturdays. This test is appropriate when comparing the means of two independent samples and assumes that the data are normally distributed."
   ]
  },
  {
   "cell_type": "markdown",
   "metadata": {},
   "source": [
    "## Exploratory Data Analysis on the Data from last query"
   ]
  },
  {
   "cell_type": "code",
   "execution_count": null,
   "metadata": {},
   "outputs": [],
   "source": [
    "# Displaying dataset\n",
    "data.sample(5)"
   ]
  },
  {
   "cell_type": "code",
   "execution_count": null,
   "metadata": {
    "scrolled": true
   },
   "outputs": [],
   "source": [
    "data['weather_conditions'].unique()"
   ]
  },
  {
   "cell_type": "markdown",
   "metadata": {},
   "source": [
    "We are examining the `weather_condition` column to identify all distinct values."
   ]
  },
  {
   "cell_type": "code",
   "execution_count": null,
   "metadata": {},
   "outputs": [],
   "source": [
    "data.describe()"
   ]
  },
  {
   "cell_type": "code",
   "execution_count": null,
   "metadata": {
    "scrolled": true
   },
   "outputs": [],
   "source": [
    "print('Total duplicates:',data.duplicated().sum())"
   ]
  },
  {
   "cell_type": "markdown",
   "metadata": {},
   "source": [
    "We have identified a total of 197 duplicates in our dataset. We will investigate these duplicates to ascertain whether they are necessary for our dataset."
   ]
  },
  {
   "cell_type": "code",
   "execution_count": null,
   "metadata": {
    "scrolled": true
   },
   "outputs": [],
   "source": [
    "duplicates = data[data.duplicated()]\n",
    "duplicates.head(5)"
   ]
  },
  {
   "cell_type": "markdown",
   "metadata": {},
   "source": [
    "We have determined that there are duplicates in the ‘duration_seconds’ column. Although these duplicate values occur in the ‘duration_seconds’ column, they correspond to different dates in the ‘start_ts’ column. Consequently, we will retain these duplicates as they are essential for our dataset."
   ]
  },
  {
   "cell_type": "code",
   "execution_count": null,
   "metadata": {
    "scrolled": true
   },
   "outputs": [],
   "source": [
    "data.isnull().sum()"
   ]
  },
  {
   "cell_type": "markdown",
   "metadata": {},
   "source": [
    "We have identify no null values in our dataset. "
   ]
  },
  {
   "cell_type": "code",
   "execution_count": null,
   "metadata": {
    "scrolled": true
   },
   "outputs": [],
   "source": [
    "data.info()"
   ]
  },
  {
   "cell_type": "markdown",
   "metadata": {},
   "source": [
    "We have identified that the `start_ts` data type is currently designated as `object`. It is imperative to convert this data type to 'datetime' format."
   ]
  },
  {
   "cell_type": "markdown",
   "metadata": {},
   "source": [
    "## Converting data to correct to correct data types"
   ]
  },
  {
   "cell_type": "code",
   "execution_count": null,
   "metadata": {},
   "outputs": [],
   "source": [
    "data['start_ts'] = pd.to_datetime(data['start_ts'])"
   ]
  },
  {
   "cell_type": "markdown",
   "metadata": {},
   "source": [
    "Now that we have successfully converted our `start_ts` to the appropriate data type, we will proceed to filter our data for both rainy and non-rainy Saturdays. This step is essential for further evaluating our hypothesis."
   ]
  },
  {
   "cell_type": "markdown",
   "metadata": {},
   "source": [
    "## Filtering data and Performing hypotheses"
   ]
  },
  {
   "cell_type": "markdown",
   "metadata": {},
   "source": [
    "We load the dataset and now we will filter it to separate rides on rainy Saturdays and non-rainy Saturdays. \n",
    "\n",
    "We then will use the `ttest_ind` function from `scipy.stats` module to perform a two-sample t-test. Finally, we will compare the obtained `p-value` with the chosen significance level (alpha) to decide whether to reject the null hypothesis or not. If the `p-value` is less than `alpha`, we reject the null hypothesis, indicating that there is a significant difference in ride durations between rainy and non-rainy Saturdays. Otherwise, we fail to reject the null hypothesis."
   ]
  },
  {
   "cell_type": "code",
   "execution_count": null,
   "metadata": {},
   "outputs": [],
   "source": [
    "# Filter data for rainy Saturdays and non-rainy Saturdays\n",
    "rainy_saturdays = data[(data['weather_conditions'] == 'Bad') & (data['start_ts'].dt.dayofweek == 5)]\n",
    "non_rainy_saturdays = data[(data['weather_conditions'] != 'Bad') & (data['start_ts'].dt.dayofweek == 5)]"
   ]
  },
  {
   "cell_type": "code",
   "execution_count": null,
   "metadata": {},
   "outputs": [],
   "source": [
    "#added by reviewer\n",
    "\n",
    "display(len(rainy_saturdays), len(non_rainy_saturdays))"
   ]
  },
  {
   "cell_type": "code",
   "execution_count": null,
   "metadata": {},
   "outputs": [],
   "source": [
    "# Perform t-test\n",
    "t_stat, p_value = ttest_ind(rainy_saturdays['duration_seconds'], non_rainy_saturdays['duration_seconds'])"
   ]
  },
  {
   "cell_type": "code",
   "execution_count": null,
   "metadata": {
    "scrolled": true
   },
   "outputs": [],
   "source": [
    "print('p-value:', p_value)"
   ]
  },
  {
   "cell_type": "markdown",
   "metadata": {},
   "source": [
    "The calculated p-value is 6.52. Notably, this value is negligibly small, significantly less than the conventional significance level of 0.05. Consequently, we can confidently reject the null hypothesis."
   ]
  },
  {
   "cell_type": "code",
   "execution_count": null,
   "metadata": {},
   "outputs": [],
   "source": [
    "# Compare p-value to significance level\n",
    "alpha = 0.05\n",
    "if p_value < alpha:\n",
    "    print(\"Reject null hypothesis: The average duration of rides from the Loop to O'Hare International Airport changes on rainy Saturdays.\")\n",
    "else:\n",
    "    print(\"Fail to reject null hypothesis: There is no significant difference in the average duration of rides on rainy Saturdays.\")"
   ]
  },
  {
   "cell_type": "markdown",
   "metadata": {},
   "source": [
    "Based on our statistical analysis, we find evidence to suggest that the average duration of rides from the Loop to O’Hare International Airport significantly varies on rainy Saturdays"
   ]
  },
  {
   "cell_type": "markdown",
   "metadata": {
    "jp-MarkdownHeadingCollapsed": true
   },
   "source": [
    "# Project Conclusion:"
   ]
  },
  {
   "cell_type": "markdown",
   "metadata": {},
   "source": [
    "In this project, we delved into an exploratory data analysis (EDA) journey to uncover valuable insights from taxi ride data in Chicago during November 15-16, 2017. By analyzing two datasets containing information on taxi companies, neighborhood drop-offs, and ride durations, we gained a deeper understanding of the taxi service landscape.\n",
    "Exploratory Data Analysis (EDA)\n",
    "\n",
    "Data Import and Cleaning:\n",
    "- We imported the provided CSV files and ensured correct data types.\n",
    "- Our focus was on understanding taxi companies, drop-off locations, and ride durations.\n",
    "\n",
    "Top Neighborhoods by Drop-offs:\n",
    " - Through visualization, we identified the top 10 neighborhoods with the highest number of drop-offs.\n",
    " - These neighborhoods play a crucial role in the taxi service ecosystem.\n",
    "\n",
    "Distribution of Rides Among Taxi Companies:\n",
    " - We visualized the distribution of rides among different taxi companies.\n",
    " - The following companies stood out:\n",
    "    - Flash Cab: 19,558 trips\n",
    "    - Taxi Affiliation Services: 11,422 trips\n",
    "    - Medallion Leasing: 10,367 trips\n",
    "    - Yellow Cab: 9,888 trips\n",
    "\n",
    "Hypothesis Testing\n",
    "\n",
    "We explored the impact of weather conditions, specifically rainy Saturdays, on ride durations. Our hypothesis test led us to reject the null hypothesis, suggesting that there is statistically significant difference in ride durations between rainy Saturdays and other days. Weather conditions significantly influence ride durations.\n",
    "Implications and Future Research\n",
    "\n",
    "Our study has implications for ride-sharing companies:\n",
    "\n",
    "Resource Allocation: Knowing that rainy Saturdays significantly affect ride durations, companies can allocate resources efficiently.\n",
    "\n",
    "Customer Satisfaction: By leveraging data-driven insights, companies can enhance service quality and improve customer satisfaction.\n",
    "\n",
    "Further Investigation: Future research could explore additional variables (e.g., traffic patterns, special events) to refine operational efficiency.\n",
    "\n",
    "In summary, our data-driven approach contributes to a more reliable transportation system in urban areas like Chicago."
   ]
  }
 ],
 "metadata": {
  "kernelspec": {
   "display_name": "Python 3 (ipykernel)",
   "language": "python",
   "name": "python3"
  },
  "language_info": {
   "codemirror_mode": {
    "name": "ipython",
    "version": 3
   },
   "file_extension": ".py",
   "mimetype": "text/x-python",
   "name": "python",
   "nbconvert_exporter": "python",
   "pygments_lexer": "ipython3",
   "version": "3.11.7"
  },
  "toc": {
   "base_numbering": 1,
   "nav_menu": {},
   "number_sections": true,
   "sideBar": true,
   "skip_h1_title": true,
   "title_cell": "Table of Contents",
   "title_sidebar": "Contents",
   "toc_cell": false,
   "toc_position": {},
   "toc_section_display": true,
   "toc_window_display": false
  }
 },
 "nbformat": 4,
 "nbformat_minor": 4
}
